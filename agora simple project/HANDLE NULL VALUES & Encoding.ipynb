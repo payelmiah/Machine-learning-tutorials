{
 "cells": [
  {
   "cell_type": "code",
   "execution_count": 2,
   "id": "7df87f6d",
   "metadata": {},
   "outputs": [],
   "source": [
    "import pandas as pd \n",
    "import numpy as nm"
   ]
  },
  {
   "cell_type": "code",
   "execution_count": 3,
   "id": "cb5d3b58",
   "metadata": {},
   "outputs": [],
   "source": [
    "df=pd.read_csv('Agora.csv')"
   ]
  },
  {
   "cell_type": "code",
   "execution_count": 9,
   "id": "21d92a8b",
   "metadata": {},
   "outputs": [
    {
     "data": {
      "text/html": [
       "<div>\n",
       "<style scoped>\n",
       "    .dataframe tbody tr th:only-of-type {\n",
       "        vertical-align: middle;\n",
       "    }\n",
       "\n",
       "    .dataframe tbody tr th {\n",
       "        vertical-align: top;\n",
       "    }\n",
       "\n",
       "    .dataframe thead th {\n",
       "        text-align: right;\n",
       "    }\n",
       "</style>\n",
       "<table border=\"1\" class=\"dataframe\">\n",
       "  <thead>\n",
       "    <tr style=\"text-align: right;\">\n",
       "      <th></th>\n",
       "      <th>Marketing Speed</th>\n",
       "      <th>Administration</th>\n",
       "      <th>Transport</th>\n",
       "      <th>Area</th>\n",
       "      <th>Profit</th>\n",
       "    </tr>\n",
       "  </thead>\n",
       "  <tbody>\n",
       "    <tr>\n",
       "      <th>0</th>\n",
       "      <td>464565456.0</td>\n",
       "      <td>56465465.0</td>\n",
       "      <td>1354564.0</td>\n",
       "      <td>Dhaka</td>\n",
       "      <td>45445.0</td>\n",
       "    </tr>\n",
       "    <tr>\n",
       "      <th>1</th>\n",
       "      <td>546544455.0</td>\n",
       "      <td>545456456.0</td>\n",
       "      <td>5454.0</td>\n",
       "      <td>Ctg</td>\n",
       "      <td>564654.0</td>\n",
       "    </tr>\n",
       "    <tr>\n",
       "      <th>2</th>\n",
       "      <td>41564545.0</td>\n",
       "      <td>4545.0</td>\n",
       "      <td>4242524.0</td>\n",
       "      <td>Rangpur</td>\n",
       "      <td>56456.0</td>\n",
       "    </tr>\n",
       "    <tr>\n",
       "      <th>3</th>\n",
       "      <td>54146565.0</td>\n",
       "      <td>545.0</td>\n",
       "      <td>45245.0</td>\n",
       "      <td>Dhaka</td>\n",
       "      <td>5646.0</td>\n",
       "    </tr>\n",
       "    <tr>\n",
       "      <th>4</th>\n",
       "      <td>656465546.0</td>\n",
       "      <td>445.0</td>\n",
       "      <td>NaN</td>\n",
       "      <td>Rangpur</td>\n",
       "      <td>56465.0</td>\n",
       "    </tr>\n",
       "  </tbody>\n",
       "</table>\n",
       "</div>"
      ],
      "text/plain": [
       "   Marketing Speed   Administration  Transport     Area    Profit\n",
       "0       464565456.0      56465465.0  1354564.0    Dhaka   45445.0\n",
       "1       546544455.0     545456456.0     5454.0      Ctg  564654.0\n",
       "2        41564545.0          4545.0  4242524.0  Rangpur   56456.0\n",
       "3        54146565.0           545.0    45245.0    Dhaka    5646.0\n",
       "4       656465546.0           445.0        NaN  Rangpur   56465.0"
      ]
     },
     "execution_count": 9,
     "metadata": {},
     "output_type": "execute_result"
    }
   ],
   "source": [
    "df"
   ]
  },
  {
   "cell_type": "code",
   "execution_count": 10,
   "id": "9065f31e",
   "metadata": {},
   "outputs": [
    {
     "data": {
      "text/plain": [
       "Marketing Speed     0\n",
       "Administration      0\n",
       "Transport           1\n",
       "Area                0\n",
       "Profit              0\n",
       "dtype: int64"
      ]
     },
     "execution_count": 10,
     "metadata": {},
     "output_type": "execute_result"
    }
   ],
   "source": [
    "df.isnull().sum()"
   ]
  },
  {
   "cell_type": "code",
   "execution_count": 11,
   "id": "828eca9a",
   "metadata": {},
   "outputs": [],
   "source": [
    "mean=df.Transport.mean()"
   ]
  },
  {
   "cell_type": "code",
   "execution_count": 12,
   "id": "17c5d8d6",
   "metadata": {},
   "outputs": [],
   "source": [
    "df.Transport=df.Transport.fillna(mean)"
   ]
  },
  {
   "cell_type": "code",
   "execution_count": 13,
   "id": "5d72a9d3",
   "metadata": {},
   "outputs": [
    {
     "data": {
      "text/html": [
       "<div>\n",
       "<style scoped>\n",
       "    .dataframe tbody tr th:only-of-type {\n",
       "        vertical-align: middle;\n",
       "    }\n",
       "\n",
       "    .dataframe tbody tr th {\n",
       "        vertical-align: top;\n",
       "    }\n",
       "\n",
       "    .dataframe thead th {\n",
       "        text-align: right;\n",
       "    }\n",
       "</style>\n",
       "<table border=\"1\" class=\"dataframe\">\n",
       "  <thead>\n",
       "    <tr style=\"text-align: right;\">\n",
       "      <th></th>\n",
       "      <th>Marketing Speed</th>\n",
       "      <th>Administration</th>\n",
       "      <th>Transport</th>\n",
       "      <th>Area</th>\n",
       "      <th>Profit</th>\n",
       "    </tr>\n",
       "  </thead>\n",
       "  <tbody>\n",
       "    <tr>\n",
       "      <th>0</th>\n",
       "      <td>464565456.0</td>\n",
       "      <td>56465465.0</td>\n",
       "      <td>1354564.00</td>\n",
       "      <td>Dhaka</td>\n",
       "      <td>45445.0</td>\n",
       "    </tr>\n",
       "    <tr>\n",
       "      <th>1</th>\n",
       "      <td>546544455.0</td>\n",
       "      <td>545456456.0</td>\n",
       "      <td>5454.00</td>\n",
       "      <td>Ctg</td>\n",
       "      <td>564654.0</td>\n",
       "    </tr>\n",
       "    <tr>\n",
       "      <th>2</th>\n",
       "      <td>41564545.0</td>\n",
       "      <td>4545.0</td>\n",
       "      <td>4242524.00</td>\n",
       "      <td>Rangpur</td>\n",
       "      <td>56456.0</td>\n",
       "    </tr>\n",
       "    <tr>\n",
       "      <th>3</th>\n",
       "      <td>54146565.0</td>\n",
       "      <td>545.0</td>\n",
       "      <td>45245.00</td>\n",
       "      <td>Dhaka</td>\n",
       "      <td>5646.0</td>\n",
       "    </tr>\n",
       "    <tr>\n",
       "      <th>4</th>\n",
       "      <td>656465546.0</td>\n",
       "      <td>445.0</td>\n",
       "      <td>1411946.75</td>\n",
       "      <td>Rangpur</td>\n",
       "      <td>56465.0</td>\n",
       "    </tr>\n",
       "  </tbody>\n",
       "</table>\n",
       "</div>"
      ],
      "text/plain": [
       "   Marketing Speed   Administration   Transport     Area    Profit\n",
       "0       464565456.0      56465465.0  1354564.00    Dhaka   45445.0\n",
       "1       546544455.0     545456456.0     5454.00      Ctg  564654.0\n",
       "2        41564545.0          4545.0  4242524.00  Rangpur   56456.0\n",
       "3        54146565.0           545.0    45245.00    Dhaka    5646.0\n",
       "4       656465546.0           445.0  1411946.75  Rangpur   56465.0"
      ]
     },
     "execution_count": 13,
     "metadata": {},
     "output_type": "execute_result"
    }
   ],
   "source": [
    "df"
   ]
  },
  {
   "cell_type": "code",
   "execution_count": 14,
   "id": "63fdb108",
   "metadata": {},
   "outputs": [
    {
     "data": {
      "text/plain": [
       "Marketing Speed     0\n",
       "Administration      0\n",
       "Transport           0\n",
       "Area                0\n",
       "Profit              0\n",
       "dtype: int64"
      ]
     },
     "execution_count": 14,
     "metadata": {},
     "output_type": "execute_result"
    }
   ],
   "source": [
    "df.isnull().sum()"
   ]
  },
  {
   "cell_type": "markdown",
   "id": "bf1ac6ab",
   "metadata": {},
   "source": [
    "# Encoding"
   ]
  },
  {
   "cell_type": "code",
   "execution_count": 16,
   "id": "efcd7be2",
   "metadata": {},
   "outputs": [
    {
     "data": {
      "text/plain": [
       "array(['Dhaka', 'Ctg', 'Rangpur'], dtype=object)"
      ]
     },
     "execution_count": 16,
     "metadata": {},
     "output_type": "execute_result"
    }
   ],
   "source": [
    "\n",
    "df.Area.unique()"
   ]
  },
  {
   "cell_type": "code",
   "execution_count": 17,
   "id": "4a995f81",
   "metadata": {},
   "outputs": [],
   "source": [
    "df.Area=df.Area.replace(['Dhaka', 'Ctg', 'Rangpur'],[3,2,1])"
   ]
  },
  {
   "cell_type": "code",
   "execution_count": 21,
   "id": "964c3ba3",
   "metadata": {},
   "outputs": [
    {
     "data": {
      "text/plain": [
       "0    3\n",
       "1    2\n",
       "2    1\n",
       "3    3\n",
       "4    1\n",
       "Name: Area, dtype: int64"
      ]
     },
     "execution_count": 21,
     "metadata": {},
     "output_type": "execute_result"
    }
   ],
   "source": [
    "df.Area"
   ]
  },
  {
   "cell_type": "code",
   "execution_count": 22,
   "id": "2a04e12c",
   "metadata": {},
   "outputs": [
    {
     "data": {
      "text/html": [
       "<div>\n",
       "<style scoped>\n",
       "    .dataframe tbody tr th:only-of-type {\n",
       "        vertical-align: middle;\n",
       "    }\n",
       "\n",
       "    .dataframe tbody tr th {\n",
       "        vertical-align: top;\n",
       "    }\n",
       "\n",
       "    .dataframe thead th {\n",
       "        text-align: right;\n",
       "    }\n",
       "</style>\n",
       "<table border=\"1\" class=\"dataframe\">\n",
       "  <thead>\n",
       "    <tr style=\"text-align: right;\">\n",
       "      <th></th>\n",
       "      <th>Marketing Speed</th>\n",
       "      <th>Administration</th>\n",
       "      <th>Transport</th>\n",
       "      <th>Area</th>\n",
       "      <th>Profit</th>\n",
       "    </tr>\n",
       "  </thead>\n",
       "  <tbody>\n",
       "    <tr>\n",
       "      <th>0</th>\n",
       "      <td>464565456.0</td>\n",
       "      <td>56465465.0</td>\n",
       "      <td>1354564.00</td>\n",
       "      <td>3</td>\n",
       "      <td>45445.0</td>\n",
       "    </tr>\n",
       "    <tr>\n",
       "      <th>1</th>\n",
       "      <td>546544455.0</td>\n",
       "      <td>545456456.0</td>\n",
       "      <td>5454.00</td>\n",
       "      <td>2</td>\n",
       "      <td>564654.0</td>\n",
       "    </tr>\n",
       "    <tr>\n",
       "      <th>2</th>\n",
       "      <td>41564545.0</td>\n",
       "      <td>4545.0</td>\n",
       "      <td>4242524.00</td>\n",
       "      <td>1</td>\n",
       "      <td>56456.0</td>\n",
       "    </tr>\n",
       "    <tr>\n",
       "      <th>3</th>\n",
       "      <td>54146565.0</td>\n",
       "      <td>545.0</td>\n",
       "      <td>45245.00</td>\n",
       "      <td>3</td>\n",
       "      <td>5646.0</td>\n",
       "    </tr>\n",
       "    <tr>\n",
       "      <th>4</th>\n",
       "      <td>656465546.0</td>\n",
       "      <td>445.0</td>\n",
       "      <td>1411946.75</td>\n",
       "      <td>1</td>\n",
       "      <td>56465.0</td>\n",
       "    </tr>\n",
       "  </tbody>\n",
       "</table>\n",
       "</div>"
      ],
      "text/plain": [
       "   Marketing Speed   Administration   Transport  Area    Profit\n",
       "0       464565456.0      56465465.0  1354564.00     3   45445.0\n",
       "1       546544455.0     545456456.0     5454.00     2  564654.0\n",
       "2        41564545.0          4545.0  4242524.00     1   56456.0\n",
       "3        54146565.0           545.0    45245.00     3    5646.0\n",
       "4       656465546.0           445.0  1411946.75     1   56465.0"
      ]
     },
     "execution_count": 22,
     "metadata": {},
     "output_type": "execute_result"
    }
   ],
   "source": [
    "df"
   ]
  },
  {
   "cell_type": "markdown",
   "id": "cc846050",
   "metadata": {},
   "source": [
    "# Label Encoding"
   ]
  },
  {
   "cell_type": "code",
   "execution_count": 19,
   "id": "5ed67e93",
   "metadata": {},
   "outputs": [],
   "source": [
    "from sklearn.preprocessing import LabelEncoder"
   ]
  },
  {
   "cell_type": "code",
   "execution_count": 25,
   "id": "bf63c7d3",
   "metadata": {},
   "outputs": [],
   "source": [
    "df=pd.read_csv('Agora.csv')"
   ]
  },
  {
   "cell_type": "code",
   "execution_count": 26,
   "id": "4dc787d8",
   "metadata": {
    "scrolled": false
   },
   "outputs": [
    {
     "data": {
      "text/html": [
       "<div>\n",
       "<style scoped>\n",
       "    .dataframe tbody tr th:only-of-type {\n",
       "        vertical-align: middle;\n",
       "    }\n",
       "\n",
       "    .dataframe tbody tr th {\n",
       "        vertical-align: top;\n",
       "    }\n",
       "\n",
       "    .dataframe thead th {\n",
       "        text-align: right;\n",
       "    }\n",
       "</style>\n",
       "<table border=\"1\" class=\"dataframe\">\n",
       "  <thead>\n",
       "    <tr style=\"text-align: right;\">\n",
       "      <th></th>\n",
       "      <th>Marketing Speed</th>\n",
       "      <th>Administration</th>\n",
       "      <th>Transport</th>\n",
       "      <th>Area</th>\n",
       "      <th>Profit</th>\n",
       "    </tr>\n",
       "  </thead>\n",
       "  <tbody>\n",
       "    <tr>\n",
       "      <th>0</th>\n",
       "      <td>464565456.0</td>\n",
       "      <td>56465465.0</td>\n",
       "      <td>1354564.0</td>\n",
       "      <td>Dhaka</td>\n",
       "      <td>45445.0</td>\n",
       "    </tr>\n",
       "    <tr>\n",
       "      <th>1</th>\n",
       "      <td>546544455.0</td>\n",
       "      <td>545456456.0</td>\n",
       "      <td>5454.0</td>\n",
       "      <td>Ctg</td>\n",
       "      <td>564654.0</td>\n",
       "    </tr>\n",
       "    <tr>\n",
       "      <th>2</th>\n",
       "      <td>41564545.0</td>\n",
       "      <td>4545.0</td>\n",
       "      <td>4242524.0</td>\n",
       "      <td>Rangpur</td>\n",
       "      <td>56456.0</td>\n",
       "    </tr>\n",
       "    <tr>\n",
       "      <th>3</th>\n",
       "      <td>54146565.0</td>\n",
       "      <td>545.0</td>\n",
       "      <td>45245.0</td>\n",
       "      <td>Dhaka</td>\n",
       "      <td>5646.0</td>\n",
       "    </tr>\n",
       "    <tr>\n",
       "      <th>4</th>\n",
       "      <td>656465546.0</td>\n",
       "      <td>445.0</td>\n",
       "      <td>NaN</td>\n",
       "      <td>Rangpur</td>\n",
       "      <td>56465.0</td>\n",
       "    </tr>\n",
       "  </tbody>\n",
       "</table>\n",
       "</div>"
      ],
      "text/plain": [
       "   Marketing Speed   Administration  Transport     Area    Profit\n",
       "0       464565456.0      56465465.0  1354564.0    Dhaka   45445.0\n",
       "1       546544455.0     545456456.0     5454.0      Ctg  564654.0\n",
       "2        41564545.0          4545.0  4242524.0  Rangpur   56456.0\n",
       "3        54146565.0           545.0    45245.0    Dhaka    5646.0\n",
       "4       656465546.0           445.0        NaN  Rangpur   56465.0"
      ]
     },
     "execution_count": 26,
     "metadata": {},
     "output_type": "execute_result"
    }
   ],
   "source": [
    "df"
   ]
  },
  {
   "cell_type": "code",
   "execution_count": 20,
   "id": "fbce7f6e",
   "metadata": {},
   "outputs": [],
   "source": [
    "label = LabelEncoder()"
   ]
  },
  {
   "cell_type": "code",
   "execution_count": 29,
   "id": "00fe6c27",
   "metadata": {},
   "outputs": [],
   "source": [
    "df.Area =label.fit_transform(df['Area'])"
   ]
  },
  {
   "cell_type": "code",
   "execution_count": 30,
   "id": "c7b07bcf",
   "metadata": {},
   "outputs": [
    {
     "data": {
      "text/html": [
       "<div>\n",
       "<style scoped>\n",
       "    .dataframe tbody tr th:only-of-type {\n",
       "        vertical-align: middle;\n",
       "    }\n",
       "\n",
       "    .dataframe tbody tr th {\n",
       "        vertical-align: top;\n",
       "    }\n",
       "\n",
       "    .dataframe thead th {\n",
       "        text-align: right;\n",
       "    }\n",
       "</style>\n",
       "<table border=\"1\" class=\"dataframe\">\n",
       "  <thead>\n",
       "    <tr style=\"text-align: right;\">\n",
       "      <th></th>\n",
       "      <th>Marketing Speed</th>\n",
       "      <th>Administration</th>\n",
       "      <th>Transport</th>\n",
       "      <th>Area</th>\n",
       "      <th>Profit</th>\n",
       "    </tr>\n",
       "  </thead>\n",
       "  <tbody>\n",
       "    <tr>\n",
       "      <th>0</th>\n",
       "      <td>464565456.0</td>\n",
       "      <td>56465465.0</td>\n",
       "      <td>1354564.0</td>\n",
       "      <td>1</td>\n",
       "      <td>45445.0</td>\n",
       "    </tr>\n",
       "    <tr>\n",
       "      <th>1</th>\n",
       "      <td>546544455.0</td>\n",
       "      <td>545456456.0</td>\n",
       "      <td>5454.0</td>\n",
       "      <td>0</td>\n",
       "      <td>564654.0</td>\n",
       "    </tr>\n",
       "    <tr>\n",
       "      <th>2</th>\n",
       "      <td>41564545.0</td>\n",
       "      <td>4545.0</td>\n",
       "      <td>4242524.0</td>\n",
       "      <td>2</td>\n",
       "      <td>56456.0</td>\n",
       "    </tr>\n",
       "    <tr>\n",
       "      <th>3</th>\n",
       "      <td>54146565.0</td>\n",
       "      <td>545.0</td>\n",
       "      <td>45245.0</td>\n",
       "      <td>1</td>\n",
       "      <td>5646.0</td>\n",
       "    </tr>\n",
       "    <tr>\n",
       "      <th>4</th>\n",
       "      <td>656465546.0</td>\n",
       "      <td>445.0</td>\n",
       "      <td>NaN</td>\n",
       "      <td>2</td>\n",
       "      <td>56465.0</td>\n",
       "    </tr>\n",
       "  </tbody>\n",
       "</table>\n",
       "</div>"
      ],
      "text/plain": [
       "   Marketing Speed   Administration  Transport  Area    Profit\n",
       "0       464565456.0      56465465.0  1354564.0     1   45445.0\n",
       "1       546544455.0     545456456.0     5454.0     0  564654.0\n",
       "2        41564545.0          4545.0  4242524.0     2   56456.0\n",
       "3        54146565.0           545.0    45245.0     1    5646.0\n",
       "4       656465546.0           445.0        NaN     2   56465.0"
      ]
     },
     "execution_count": 30,
     "metadata": {},
     "output_type": "execute_result"
    }
   ],
   "source": [
    "df"
   ]
  },
  {
   "cell_type": "markdown",
   "id": "2e0537dc",
   "metadata": {},
   "source": [
    "# One Hot Encoding"
   ]
  },
  {
   "cell_type": "code",
   "execution_count": 8,
   "id": "ff1b6e1b",
   "metadata": {},
   "outputs": [],
   "source": [
    "df=pd.read_csv('Agora.csv')"
   ]
  },
  {
   "cell_type": "code",
   "execution_count": 9,
   "id": "9f9e0503",
   "metadata": {},
   "outputs": [
    {
     "data": {
      "text/html": [
       "<div>\n",
       "<style scoped>\n",
       "    .dataframe tbody tr th:only-of-type {\n",
       "        vertical-align: middle;\n",
       "    }\n",
       "\n",
       "    .dataframe tbody tr th {\n",
       "        vertical-align: top;\n",
       "    }\n",
       "\n",
       "    .dataframe thead th {\n",
       "        text-align: right;\n",
       "    }\n",
       "</style>\n",
       "<table border=\"1\" class=\"dataframe\">\n",
       "  <thead>\n",
       "    <tr style=\"text-align: right;\">\n",
       "      <th></th>\n",
       "      <th>Marketing Speed</th>\n",
       "      <th>Administration</th>\n",
       "      <th>Transport</th>\n",
       "      <th>Area</th>\n",
       "      <th>Profit</th>\n",
       "    </tr>\n",
       "  </thead>\n",
       "  <tbody>\n",
       "    <tr>\n",
       "      <th>0</th>\n",
       "      <td>464565456.0</td>\n",
       "      <td>56465465.0</td>\n",
       "      <td>1354564.0</td>\n",
       "      <td>Dhaka</td>\n",
       "      <td>45445.0</td>\n",
       "    </tr>\n",
       "    <tr>\n",
       "      <th>1</th>\n",
       "      <td>546544455.0</td>\n",
       "      <td>545456456.0</td>\n",
       "      <td>5454.0</td>\n",
       "      <td>Ctg</td>\n",
       "      <td>564654.0</td>\n",
       "    </tr>\n",
       "    <tr>\n",
       "      <th>2</th>\n",
       "      <td>41564545.0</td>\n",
       "      <td>4545.0</td>\n",
       "      <td>4242524.0</td>\n",
       "      <td>Rangpur</td>\n",
       "      <td>56456.0</td>\n",
       "    </tr>\n",
       "    <tr>\n",
       "      <th>3</th>\n",
       "      <td>54146565.0</td>\n",
       "      <td>545.0</td>\n",
       "      <td>45245.0</td>\n",
       "      <td>Dhaka</td>\n",
       "      <td>5646.0</td>\n",
       "    </tr>\n",
       "    <tr>\n",
       "      <th>4</th>\n",
       "      <td>656465546.0</td>\n",
       "      <td>445.0</td>\n",
       "      <td>NaN</td>\n",
       "      <td>Rangpur</td>\n",
       "      <td>56465.0</td>\n",
       "    </tr>\n",
       "  </tbody>\n",
       "</table>\n",
       "</div>"
      ],
      "text/plain": [
       "   Marketing Speed   Administration  Transport     Area    Profit\n",
       "0       464565456.0      56465465.0  1354564.0    Dhaka   45445.0\n",
       "1       546544455.0     545456456.0     5454.0      Ctg  564654.0\n",
       "2        41564545.0          4545.0  4242524.0  Rangpur   56456.0\n",
       "3        54146565.0           545.0    45245.0    Dhaka    5646.0\n",
       "4       656465546.0           445.0        NaN  Rangpur   56465.0"
      ]
     },
     "execution_count": 9,
     "metadata": {},
     "output_type": "execute_result"
    }
   ],
   "source": [
    "df"
   ]
  },
  {
   "cell_type": "code",
   "execution_count": 12,
   "id": "5d19ce17",
   "metadata": {},
   "outputs": [
    {
     "data": {
      "text/html": [
       "<div>\n",
       "<style scoped>\n",
       "    .dataframe tbody tr th:only-of-type {\n",
       "        vertical-align: middle;\n",
       "    }\n",
       "\n",
       "    .dataframe tbody tr th {\n",
       "        vertical-align: top;\n",
       "    }\n",
       "\n",
       "    .dataframe thead th {\n",
       "        text-align: right;\n",
       "    }\n",
       "</style>\n",
       "<table border=\"1\" class=\"dataframe\">\n",
       "  <thead>\n",
       "    <tr style=\"text-align: right;\">\n",
       "      <th></th>\n",
       "      <th>Ctg</th>\n",
       "      <th>Dhaka</th>\n",
       "      <th>Rangpur</th>\n",
       "    </tr>\n",
       "  </thead>\n",
       "  <tbody>\n",
       "    <tr>\n",
       "      <th>0</th>\n",
       "      <td>0</td>\n",
       "      <td>1</td>\n",
       "      <td>0</td>\n",
       "    </tr>\n",
       "    <tr>\n",
       "      <th>1</th>\n",
       "      <td>1</td>\n",
       "      <td>0</td>\n",
       "      <td>0</td>\n",
       "    </tr>\n",
       "    <tr>\n",
       "      <th>2</th>\n",
       "      <td>0</td>\n",
       "      <td>0</td>\n",
       "      <td>1</td>\n",
       "    </tr>\n",
       "    <tr>\n",
       "      <th>3</th>\n",
       "      <td>0</td>\n",
       "      <td>1</td>\n",
       "      <td>0</td>\n",
       "    </tr>\n",
       "    <tr>\n",
       "      <th>4</th>\n",
       "      <td>0</td>\n",
       "      <td>0</td>\n",
       "      <td>1</td>\n",
       "    </tr>\n",
       "  </tbody>\n",
       "</table>\n",
       "</div>"
      ],
      "text/plain": [
       "   Ctg  Dhaka  Rangpur\n",
       "0    0      1        0\n",
       "1    1      0        0\n",
       "2    0      0        1\n",
       "3    0      1        0\n",
       "4    0      0        1"
      ]
     },
     "execution_count": 12,
     "metadata": {},
     "output_type": "execute_result"
    }
   ],
   "source": [
    "\n",
    "pd.get_dummies(df['Area'])"
   ]
  },
  {
   "cell_type": "code",
   "execution_count": 14,
   "id": "66851b40",
   "metadata": {},
   "outputs": [
    {
     "data": {
      "text/html": [
       "<div>\n",
       "<style scoped>\n",
       "    .dataframe tbody tr th:only-of-type {\n",
       "        vertical-align: middle;\n",
       "    }\n",
       "\n",
       "    .dataframe tbody tr th {\n",
       "        vertical-align: top;\n",
       "    }\n",
       "\n",
       "    .dataframe thead th {\n",
       "        text-align: right;\n",
       "    }\n",
       "</style>\n",
       "<table border=\"1\" class=\"dataframe\">\n",
       "  <thead>\n",
       "    <tr style=\"text-align: right;\">\n",
       "      <th></th>\n",
       "      <th>Dhaka</th>\n",
       "      <th>Rangpur</th>\n",
       "    </tr>\n",
       "  </thead>\n",
       "  <tbody>\n",
       "    <tr>\n",
       "      <th>0</th>\n",
       "      <td>1</td>\n",
       "      <td>0</td>\n",
       "    </tr>\n",
       "    <tr>\n",
       "      <th>1</th>\n",
       "      <td>0</td>\n",
       "      <td>0</td>\n",
       "    </tr>\n",
       "    <tr>\n",
       "      <th>2</th>\n",
       "      <td>0</td>\n",
       "      <td>1</td>\n",
       "    </tr>\n",
       "    <tr>\n",
       "      <th>3</th>\n",
       "      <td>1</td>\n",
       "      <td>0</td>\n",
       "    </tr>\n",
       "    <tr>\n",
       "      <th>4</th>\n",
       "      <td>0</td>\n",
       "      <td>1</td>\n",
       "    </tr>\n",
       "  </tbody>\n",
       "</table>\n",
       "</div>"
      ],
      "text/plain": [
       "   Dhaka  Rangpur\n",
       "0      1        0\n",
       "1      0        0\n",
       "2      0        1\n",
       "3      1        0\n",
       "4      0        1"
      ]
     },
     "execution_count": 14,
     "metadata": {},
     "output_type": "execute_result"
    }
   ],
   "source": [
    "pd.get_dummies(df['Area'],drop_first=True)"
   ]
  },
  {
   "cell_type": "code",
   "execution_count": 15,
   "id": "89022088",
   "metadata": {},
   "outputs": [],
   "source": [
    "new_df=df.drop('Area',axis=1)"
   ]
  },
  {
   "cell_type": "code",
   "execution_count": 16,
   "id": "dda68643",
   "metadata": {},
   "outputs": [
    {
     "data": {
      "text/html": [
       "<div>\n",
       "<style scoped>\n",
       "    .dataframe tbody tr th:only-of-type {\n",
       "        vertical-align: middle;\n",
       "    }\n",
       "\n",
       "    .dataframe tbody tr th {\n",
       "        vertical-align: top;\n",
       "    }\n",
       "\n",
       "    .dataframe thead th {\n",
       "        text-align: right;\n",
       "    }\n",
       "</style>\n",
       "<table border=\"1\" class=\"dataframe\">\n",
       "  <thead>\n",
       "    <tr style=\"text-align: right;\">\n",
       "      <th></th>\n",
       "      <th>Marketing Speed</th>\n",
       "      <th>Administration</th>\n",
       "      <th>Transport</th>\n",
       "      <th>Profit</th>\n",
       "    </tr>\n",
       "  </thead>\n",
       "  <tbody>\n",
       "    <tr>\n",
       "      <th>0</th>\n",
       "      <td>464565456.0</td>\n",
       "      <td>56465465.0</td>\n",
       "      <td>1354564.0</td>\n",
       "      <td>45445.0</td>\n",
       "    </tr>\n",
       "    <tr>\n",
       "      <th>1</th>\n",
       "      <td>546544455.0</td>\n",
       "      <td>545456456.0</td>\n",
       "      <td>5454.0</td>\n",
       "      <td>564654.0</td>\n",
       "    </tr>\n",
       "    <tr>\n",
       "      <th>2</th>\n",
       "      <td>41564545.0</td>\n",
       "      <td>4545.0</td>\n",
       "      <td>4242524.0</td>\n",
       "      <td>56456.0</td>\n",
       "    </tr>\n",
       "    <tr>\n",
       "      <th>3</th>\n",
       "      <td>54146565.0</td>\n",
       "      <td>545.0</td>\n",
       "      <td>45245.0</td>\n",
       "      <td>5646.0</td>\n",
       "    </tr>\n",
       "    <tr>\n",
       "      <th>4</th>\n",
       "      <td>656465546.0</td>\n",
       "      <td>445.0</td>\n",
       "      <td>NaN</td>\n",
       "      <td>56465.0</td>\n",
       "    </tr>\n",
       "  </tbody>\n",
       "</table>\n",
       "</div>"
      ],
      "text/plain": [
       "   Marketing Speed   Administration  Transport    Profit\n",
       "0       464565456.0      56465465.0  1354564.0   45445.0\n",
       "1       546544455.0     545456456.0     5454.0  564654.0\n",
       "2        41564545.0          4545.0  4242524.0   56456.0\n",
       "3        54146565.0           545.0    45245.0    5646.0\n",
       "4       656465546.0           445.0        NaN   56465.0"
      ]
     },
     "execution_count": 16,
     "metadata": {},
     "output_type": "execute_result"
    }
   ],
   "source": [
    "new_df"
   ]
  },
  {
   "cell_type": "code",
   "execution_count": 18,
   "id": "3e8efe40",
   "metadata": {},
   "outputs": [
    {
     "data": {
      "text/html": [
       "<div>\n",
       "<style scoped>\n",
       "    .dataframe tbody tr th:only-of-type {\n",
       "        vertical-align: middle;\n",
       "    }\n",
       "\n",
       "    .dataframe tbody tr th {\n",
       "        vertical-align: top;\n",
       "    }\n",
       "\n",
       "    .dataframe thead th {\n",
       "        text-align: right;\n",
       "    }\n",
       "</style>\n",
       "<table border=\"1\" class=\"dataframe\">\n",
       "  <thead>\n",
       "    <tr style=\"text-align: right;\">\n",
       "      <th></th>\n",
       "      <th>Marketing Speed</th>\n",
       "      <th>Administration</th>\n",
       "      <th>Transport</th>\n",
       "      <th>Profit</th>\n",
       "      <th>Ctg</th>\n",
       "      <th>Dhaka</th>\n",
       "      <th>Rangpur</th>\n",
       "    </tr>\n",
       "  </thead>\n",
       "  <tbody>\n",
       "    <tr>\n",
       "      <th>0</th>\n",
       "      <td>464565456.0</td>\n",
       "      <td>56465465.0</td>\n",
       "      <td>1354564.0</td>\n",
       "      <td>45445.0</td>\n",
       "      <td>0</td>\n",
       "      <td>1</td>\n",
       "      <td>0</td>\n",
       "    </tr>\n",
       "    <tr>\n",
       "      <th>1</th>\n",
       "      <td>546544455.0</td>\n",
       "      <td>545456456.0</td>\n",
       "      <td>5454.0</td>\n",
       "      <td>564654.0</td>\n",
       "      <td>1</td>\n",
       "      <td>0</td>\n",
       "      <td>0</td>\n",
       "    </tr>\n",
       "    <tr>\n",
       "      <th>2</th>\n",
       "      <td>41564545.0</td>\n",
       "      <td>4545.0</td>\n",
       "      <td>4242524.0</td>\n",
       "      <td>56456.0</td>\n",
       "      <td>0</td>\n",
       "      <td>0</td>\n",
       "      <td>1</td>\n",
       "    </tr>\n",
       "    <tr>\n",
       "      <th>3</th>\n",
       "      <td>54146565.0</td>\n",
       "      <td>545.0</td>\n",
       "      <td>45245.0</td>\n",
       "      <td>5646.0</td>\n",
       "      <td>0</td>\n",
       "      <td>1</td>\n",
       "      <td>0</td>\n",
       "    </tr>\n",
       "    <tr>\n",
       "      <th>4</th>\n",
       "      <td>656465546.0</td>\n",
       "      <td>445.0</td>\n",
       "      <td>NaN</td>\n",
       "      <td>56465.0</td>\n",
       "      <td>0</td>\n",
       "      <td>0</td>\n",
       "      <td>1</td>\n",
       "    </tr>\n",
       "  </tbody>\n",
       "</table>\n",
       "</div>"
      ],
      "text/plain": [
       "   Marketing Speed   Administration  Transport    Profit  Ctg  Dhaka  Rangpur\n",
       "0       464565456.0      56465465.0  1354564.0   45445.0    0      1        0\n",
       "1       546544455.0     545456456.0     5454.0  564654.0    1      0        0\n",
       "2        41564545.0          4545.0  4242524.0   56456.0    0      0        1\n",
       "3        54146565.0           545.0    45245.0    5646.0    0      1        0\n",
       "4       656465546.0           445.0        NaN   56465.0    0      0        1"
      ]
     },
     "execution_count": 18,
     "metadata": {},
     "output_type": "execute_result"
    }
   ],
   "source": [
    "pd.concat([new_df,pd.get_dummies(df['Area'])],axis=1)"
   ]
  },
  {
   "cell_type": "markdown",
   "id": "dcaaa3ec",
   "metadata": {},
   "source": [
    "# Ordinal Encoder"
   ]
  },
  {
   "cell_type": "code",
   "execution_count": 4,
   "id": "9a9d1bae",
   "metadata": {},
   "outputs": [],
   "source": [
    "df=pd.read_csv('Agora.csv')"
   ]
  },
  {
   "cell_type": "code",
   "execution_count": 5,
   "id": "3b18a107",
   "metadata": {},
   "outputs": [
    {
     "data": {
      "text/html": [
       "<div>\n",
       "<style scoped>\n",
       "    .dataframe tbody tr th:only-of-type {\n",
       "        vertical-align: middle;\n",
       "    }\n",
       "\n",
       "    .dataframe tbody tr th {\n",
       "        vertical-align: top;\n",
       "    }\n",
       "\n",
       "    .dataframe thead th {\n",
       "        text-align: right;\n",
       "    }\n",
       "</style>\n",
       "<table border=\"1\" class=\"dataframe\">\n",
       "  <thead>\n",
       "    <tr style=\"text-align: right;\">\n",
       "      <th></th>\n",
       "      <th>Marketing Speed</th>\n",
       "      <th>Administration</th>\n",
       "      <th>Transport</th>\n",
       "      <th>Area</th>\n",
       "      <th>Profit</th>\n",
       "    </tr>\n",
       "  </thead>\n",
       "  <tbody>\n",
       "    <tr>\n",
       "      <th>0</th>\n",
       "      <td>464565456.0</td>\n",
       "      <td>56465465.0</td>\n",
       "      <td>1354564.0</td>\n",
       "      <td>Dhaka</td>\n",
       "      <td>45445.0</td>\n",
       "    </tr>\n",
       "    <tr>\n",
       "      <th>1</th>\n",
       "      <td>546544455.0</td>\n",
       "      <td>545456456.0</td>\n",
       "      <td>5454.0</td>\n",
       "      <td>Ctg</td>\n",
       "      <td>564654.0</td>\n",
       "    </tr>\n",
       "    <tr>\n",
       "      <th>2</th>\n",
       "      <td>41564545.0</td>\n",
       "      <td>4545.0</td>\n",
       "      <td>4242524.0</td>\n",
       "      <td>Rangpur</td>\n",
       "      <td>56456.0</td>\n",
       "    </tr>\n",
       "    <tr>\n",
       "      <th>3</th>\n",
       "      <td>54146565.0</td>\n",
       "      <td>545.0</td>\n",
       "      <td>45245.0</td>\n",
       "      <td>Dhaka</td>\n",
       "      <td>5646.0</td>\n",
       "    </tr>\n",
       "    <tr>\n",
       "      <th>4</th>\n",
       "      <td>656465546.0</td>\n",
       "      <td>445.0</td>\n",
       "      <td>NaN</td>\n",
       "      <td>Rangpur</td>\n",
       "      <td>56465.0</td>\n",
       "    </tr>\n",
       "  </tbody>\n",
       "</table>\n",
       "</div>"
      ],
      "text/plain": [
       "   Marketing Speed   Administration  Transport     Area    Profit\n",
       "0       464565456.0      56465465.0  1354564.0    Dhaka   45445.0\n",
       "1       546544455.0     545456456.0     5454.0      Ctg  564654.0\n",
       "2        41564545.0          4545.0  4242524.0  Rangpur   56456.0\n",
       "3        54146565.0           545.0    45245.0    Dhaka    5646.0\n",
       "4       656465546.0           445.0        NaN  Rangpur   56465.0"
      ]
     },
     "execution_count": 5,
     "metadata": {},
     "output_type": "execute_result"
    }
   ],
   "source": [
    "df"
   ]
  },
  {
   "cell_type": "code",
   "execution_count": 6,
   "id": "45afc76c",
   "metadata": {},
   "outputs": [],
   "source": [
    "from sklearn.preprocessing import OrdinalEncoder"
   ]
  },
  {
   "cell_type": "code",
   "execution_count": 7,
   "id": "2da9dfe0",
   "metadata": {},
   "outputs": [
    {
     "data": {
      "text/plain": [
       "array(['Dhaka', 'Ctg', 'Rangpur'], dtype=object)"
      ]
     },
     "execution_count": 7,
     "metadata": {},
     "output_type": "execute_result"
    }
   ],
   "source": [
    "df.Area.unique()"
   ]
  },
  {
   "cell_type": "code",
   "execution_count": 8,
   "id": "b04da918",
   "metadata": {},
   "outputs": [],
   "source": [
    "city_list=['Dhaka', 'Ctg', 'Rangpur']"
   ]
  },
  {
   "cell_type": "code",
   "execution_count": 9,
   "id": "47972022",
   "metadata": {},
   "outputs": [],
   "source": [
    "ordinal= OrdinalEncoder()"
   ]
  },
  {
   "cell_type": "code",
   "execution_count": null,
   "id": "3028fdb3",
   "metadata": {},
   "outputs": [],
   "source": []
  }
 ],
 "metadata": {
  "kernelspec": {
   "display_name": "Python 3",
   "language": "python",
   "name": "python3"
  },
  "language_info": {
   "codemirror_mode": {
    "name": "ipython",
    "version": 3
   },
   "file_extension": ".py",
   "mimetype": "text/x-python",
   "name": "python",
   "nbconvert_exporter": "python",
   "pygments_lexer": "ipython3",
   "version": "3.8.8"
  }
 },
 "nbformat": 4,
 "nbformat_minor": 5
}
