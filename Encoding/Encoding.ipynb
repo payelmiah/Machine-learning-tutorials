{
 "cells": [
  {
   "cell_type": "code",
   "execution_count": 40,
   "id": "a073164b",
   "metadata": {},
   "outputs": [],
   "source": [
    "import pandas as pd"
   ]
  },
  {
   "cell_type": "code",
   "execution_count": 41,
   "id": "fb628a0b",
   "metadata": {},
   "outputs": [],
   "source": [
    "from sklearn.preprocessing import LabelEncoder"
   ]
  },
  {
   "cell_type": "code",
   "execution_count": 42,
   "id": "f8ac113b",
   "metadata": {},
   "outputs": [
    {
     "data": {
      "text/html": [
       "<div>\n",
       "<style scoped>\n",
       "    .dataframe tbody tr th:only-of-type {\n",
       "        vertical-align: middle;\n",
       "    }\n",
       "\n",
       "    .dataframe tbody tr th {\n",
       "        vertical-align: top;\n",
       "    }\n",
       "\n",
       "    .dataframe thead th {\n",
       "        text-align: right;\n",
       "    }\n",
       "</style>\n",
       "<table border=\"1\" class=\"dataframe\">\n",
       "  <thead>\n",
       "    <tr style=\"text-align: right;\">\n",
       "      <th></th>\n",
       "      <th>Marketing Speed</th>\n",
       "      <th>Administration</th>\n",
       "      <th>Transport</th>\n",
       "      <th>Area</th>\n",
       "      <th>Profit</th>\n",
       "    </tr>\n",
       "  </thead>\n",
       "  <tbody>\n",
       "    <tr>\n",
       "      <th>0</th>\n",
       "      <td>464565456.0</td>\n",
       "      <td>56465465.0</td>\n",
       "      <td>1354564.0</td>\n",
       "      <td>Dhaka</td>\n",
       "      <td>45445.0</td>\n",
       "    </tr>\n",
       "    <tr>\n",
       "      <th>1</th>\n",
       "      <td>546544455.0</td>\n",
       "      <td>545456456.0</td>\n",
       "      <td>5454.0</td>\n",
       "      <td>Ctg</td>\n",
       "      <td>564654.0</td>\n",
       "    </tr>\n",
       "    <tr>\n",
       "      <th>2</th>\n",
       "      <td>41564545.0</td>\n",
       "      <td>4545.0</td>\n",
       "      <td>4242524.0</td>\n",
       "      <td>Rangpur</td>\n",
       "      <td>56456.0</td>\n",
       "    </tr>\n",
       "    <tr>\n",
       "      <th>3</th>\n",
       "      <td>54146565.0</td>\n",
       "      <td>545.0</td>\n",
       "      <td>45245.0</td>\n",
       "      <td>Dhaka</td>\n",
       "      <td>5646.0</td>\n",
       "    </tr>\n",
       "    <tr>\n",
       "      <th>4</th>\n",
       "      <td>656465546.0</td>\n",
       "      <td>445.0</td>\n",
       "      <td>NaN</td>\n",
       "      <td>Rangpur</td>\n",
       "      <td>56465.0</td>\n",
       "    </tr>\n",
       "  </tbody>\n",
       "</table>\n",
       "</div>"
      ],
      "text/plain": [
       "   Marketing Speed   Administration  Transport     Area    Profit\n",
       "0       464565456.0      56465465.0  1354564.0    Dhaka   45445.0\n",
       "1       546544455.0     545456456.0     5454.0      Ctg  564654.0\n",
       "2        41564545.0          4545.0  4242524.0  Rangpur   56456.0\n",
       "3        54146565.0           545.0    45245.0    Dhaka    5646.0\n",
       "4       656465546.0           445.0        NaN  Rangpur   56465.0"
      ]
     },
     "execution_count": 42,
     "metadata": {},
     "output_type": "execute_result"
    }
   ],
   "source": [
    "df=pd.read_csv('Agora.csv')\n",
    "df"
   ]
  },
  {
   "cell_type": "code",
   "execution_count": 43,
   "id": "3e29dc41",
   "metadata": {},
   "outputs": [],
   "source": [
    "mean=df.Transport.mean()"
   ]
  },
  {
   "cell_type": "code",
   "execution_count": 44,
   "id": "f3799344",
   "metadata": {},
   "outputs": [],
   "source": [
    "df.Transport=df.Transport.fillna(mean)"
   ]
  },
  {
   "cell_type": "code",
   "execution_count": 45,
   "id": "40b4499a",
   "metadata": {},
   "outputs": [
    {
     "data": {
      "text/html": [
       "<div>\n",
       "<style scoped>\n",
       "    .dataframe tbody tr th:only-of-type {\n",
       "        vertical-align: middle;\n",
       "    }\n",
       "\n",
       "    .dataframe tbody tr th {\n",
       "        vertical-align: top;\n",
       "    }\n",
       "\n",
       "    .dataframe thead th {\n",
       "        text-align: right;\n",
       "    }\n",
       "</style>\n",
       "<table border=\"1\" class=\"dataframe\">\n",
       "  <thead>\n",
       "    <tr style=\"text-align: right;\">\n",
       "      <th></th>\n",
       "      <th>Marketing Speed</th>\n",
       "      <th>Administration</th>\n",
       "      <th>Transport</th>\n",
       "      <th>Area</th>\n",
       "      <th>Profit</th>\n",
       "    </tr>\n",
       "  </thead>\n",
       "  <tbody>\n",
       "    <tr>\n",
       "      <th>0</th>\n",
       "      <td>464565456.0</td>\n",
       "      <td>56465465.0</td>\n",
       "      <td>1354564.00</td>\n",
       "      <td>Dhaka</td>\n",
       "      <td>45445.0</td>\n",
       "    </tr>\n",
       "    <tr>\n",
       "      <th>1</th>\n",
       "      <td>546544455.0</td>\n",
       "      <td>545456456.0</td>\n",
       "      <td>5454.00</td>\n",
       "      <td>Ctg</td>\n",
       "      <td>564654.0</td>\n",
       "    </tr>\n",
       "    <tr>\n",
       "      <th>2</th>\n",
       "      <td>41564545.0</td>\n",
       "      <td>4545.0</td>\n",
       "      <td>4242524.00</td>\n",
       "      <td>Rangpur</td>\n",
       "      <td>56456.0</td>\n",
       "    </tr>\n",
       "    <tr>\n",
       "      <th>3</th>\n",
       "      <td>54146565.0</td>\n",
       "      <td>545.0</td>\n",
       "      <td>45245.00</td>\n",
       "      <td>Dhaka</td>\n",
       "      <td>5646.0</td>\n",
       "    </tr>\n",
       "    <tr>\n",
       "      <th>4</th>\n",
       "      <td>656465546.0</td>\n",
       "      <td>445.0</td>\n",
       "      <td>1411946.75</td>\n",
       "      <td>Rangpur</td>\n",
       "      <td>56465.0</td>\n",
       "    </tr>\n",
       "  </tbody>\n",
       "</table>\n",
       "</div>"
      ],
      "text/plain": [
       "   Marketing Speed   Administration   Transport     Area    Profit\n",
       "0       464565456.0      56465465.0  1354564.00    Dhaka   45445.0\n",
       "1       546544455.0     545456456.0     5454.00      Ctg  564654.0\n",
       "2        41564545.0          4545.0  4242524.00  Rangpur   56456.0\n",
       "3        54146565.0           545.0    45245.00    Dhaka    5646.0\n",
       "4       656465546.0           445.0  1411946.75  Rangpur   56465.0"
      ]
     },
     "execution_count": 45,
     "metadata": {},
     "output_type": "execute_result"
    }
   ],
   "source": [
    "df"
   ]
  },
  {
   "cell_type": "code",
   "execution_count": 46,
   "id": "4782da5b",
   "metadata": {},
   "outputs": [
    {
     "data": {
      "text/html": [
       "<div>\n",
       "<style scoped>\n",
       "    .dataframe tbody tr th:only-of-type {\n",
       "        vertical-align: middle;\n",
       "    }\n",
       "\n",
       "    .dataframe tbody tr th {\n",
       "        vertical-align: top;\n",
       "    }\n",
       "\n",
       "    .dataframe thead th {\n",
       "        text-align: right;\n",
       "    }\n",
       "</style>\n",
       "<table border=\"1\" class=\"dataframe\">\n",
       "  <thead>\n",
       "    <tr style=\"text-align: right;\">\n",
       "      <th></th>\n",
       "      <th>Ctg</th>\n",
       "      <th>Dhaka</th>\n",
       "      <th>Rangpur</th>\n",
       "    </tr>\n",
       "  </thead>\n",
       "  <tbody>\n",
       "    <tr>\n",
       "      <th>0</th>\n",
       "      <td>0</td>\n",
       "      <td>1</td>\n",
       "      <td>0</td>\n",
       "    </tr>\n",
       "    <tr>\n",
       "      <th>1</th>\n",
       "      <td>1</td>\n",
       "      <td>0</td>\n",
       "      <td>0</td>\n",
       "    </tr>\n",
       "    <tr>\n",
       "      <th>2</th>\n",
       "      <td>0</td>\n",
       "      <td>0</td>\n",
       "      <td>1</td>\n",
       "    </tr>\n",
       "    <tr>\n",
       "      <th>3</th>\n",
       "      <td>0</td>\n",
       "      <td>1</td>\n",
       "      <td>0</td>\n",
       "    </tr>\n",
       "    <tr>\n",
       "      <th>4</th>\n",
       "      <td>0</td>\n",
       "      <td>0</td>\n",
       "      <td>1</td>\n",
       "    </tr>\n",
       "  </tbody>\n",
       "</table>\n",
       "</div>"
      ],
      "text/plain": [
       "   Ctg  Dhaka  Rangpur\n",
       "0    0      1        0\n",
       "1    1      0        0\n",
       "2    0      0        1\n",
       "3    0      1        0\n",
       "4    0      0        1"
      ]
     },
     "execution_count": 46,
     "metadata": {},
     "output_type": "execute_result"
    }
   ],
   "source": [
    "dm=pd.get_dummies(df['Area'])\n",
    "dm"
   ]
  },
  {
   "cell_type": "code",
   "execution_count": 47,
   "id": "4d7c5c0b",
   "metadata": {},
   "outputs": [],
   "source": [
    " label=LabelEncoder()"
   ]
  },
  {
   "cell_type": "code",
   "execution_count": 48,
   "id": "96080ee0",
   "metadata": {},
   "outputs": [],
   "source": [
    "df.Area =label.fit_transform(df['Area'])"
   ]
  },
  {
   "cell_type": "code",
   "execution_count": 49,
   "id": "500c9dec",
   "metadata": {},
   "outputs": [
    {
     "data": {
      "text/html": [
       "<div>\n",
       "<style scoped>\n",
       "    .dataframe tbody tr th:only-of-type {\n",
       "        vertical-align: middle;\n",
       "    }\n",
       "\n",
       "    .dataframe tbody tr th {\n",
       "        vertical-align: top;\n",
       "    }\n",
       "\n",
       "    .dataframe thead th {\n",
       "        text-align: right;\n",
       "    }\n",
       "</style>\n",
       "<table border=\"1\" class=\"dataframe\">\n",
       "  <thead>\n",
       "    <tr style=\"text-align: right;\">\n",
       "      <th></th>\n",
       "      <th>Marketing Speed</th>\n",
       "      <th>Administration</th>\n",
       "      <th>Transport</th>\n",
       "      <th>Area</th>\n",
       "      <th>Profit</th>\n",
       "    </tr>\n",
       "  </thead>\n",
       "  <tbody>\n",
       "    <tr>\n",
       "      <th>0</th>\n",
       "      <td>464565456.0</td>\n",
       "      <td>56465465.0</td>\n",
       "      <td>1354564.00</td>\n",
       "      <td>1</td>\n",
       "      <td>45445.0</td>\n",
       "    </tr>\n",
       "    <tr>\n",
       "      <th>1</th>\n",
       "      <td>546544455.0</td>\n",
       "      <td>545456456.0</td>\n",
       "      <td>5454.00</td>\n",
       "      <td>0</td>\n",
       "      <td>564654.0</td>\n",
       "    </tr>\n",
       "    <tr>\n",
       "      <th>2</th>\n",
       "      <td>41564545.0</td>\n",
       "      <td>4545.0</td>\n",
       "      <td>4242524.00</td>\n",
       "      <td>2</td>\n",
       "      <td>56456.0</td>\n",
       "    </tr>\n",
       "    <tr>\n",
       "      <th>3</th>\n",
       "      <td>54146565.0</td>\n",
       "      <td>545.0</td>\n",
       "      <td>45245.00</td>\n",
       "      <td>1</td>\n",
       "      <td>5646.0</td>\n",
       "    </tr>\n",
       "    <tr>\n",
       "      <th>4</th>\n",
       "      <td>656465546.0</td>\n",
       "      <td>445.0</td>\n",
       "      <td>1411946.75</td>\n",
       "      <td>2</td>\n",
       "      <td>56465.0</td>\n",
       "    </tr>\n",
       "  </tbody>\n",
       "</table>\n",
       "</div>"
      ],
      "text/plain": [
       "   Marketing Speed   Administration   Transport  Area    Profit\n",
       "0       464565456.0      56465465.0  1354564.00     1   45445.0\n",
       "1       546544455.0     545456456.0     5454.00     0  564654.0\n",
       "2        41564545.0          4545.0  4242524.00     2   56456.0\n",
       "3        54146565.0           545.0    45245.00     1    5646.0\n",
       "4       656465546.0           445.0  1411946.75     2   56465.0"
      ]
     },
     "execution_count": 49,
     "metadata": {},
     "output_type": "execute_result"
    }
   ],
   "source": [
    "df"
   ]
  },
  {
   "cell_type": "code",
   "execution_count": 50,
   "id": "99511719",
   "metadata": {},
   "outputs": [
    {
     "data": {
      "text/html": [
       "<div>\n",
       "<style scoped>\n",
       "    .dataframe tbody tr th:only-of-type {\n",
       "        vertical-align: middle;\n",
       "    }\n",
       "\n",
       "    .dataframe tbody tr th {\n",
       "        vertical-align: top;\n",
       "    }\n",
       "\n",
       "    .dataframe thead th {\n",
       "        text-align: right;\n",
       "    }\n",
       "</style>\n",
       "<table border=\"1\" class=\"dataframe\">\n",
       "  <thead>\n",
       "    <tr style=\"text-align: right;\">\n",
       "      <th></th>\n",
       "      <th>0</th>\n",
       "      <th>1</th>\n",
       "      <th>2</th>\n",
       "    </tr>\n",
       "  </thead>\n",
       "  <tbody>\n",
       "    <tr>\n",
       "      <th>0</th>\n",
       "      <td>0</td>\n",
       "      <td>1</td>\n",
       "      <td>0</td>\n",
       "    </tr>\n",
       "    <tr>\n",
       "      <th>1</th>\n",
       "      <td>1</td>\n",
       "      <td>0</td>\n",
       "      <td>0</td>\n",
       "    </tr>\n",
       "    <tr>\n",
       "      <th>2</th>\n",
       "      <td>0</td>\n",
       "      <td>0</td>\n",
       "      <td>1</td>\n",
       "    </tr>\n",
       "    <tr>\n",
       "      <th>3</th>\n",
       "      <td>0</td>\n",
       "      <td>1</td>\n",
       "      <td>0</td>\n",
       "    </tr>\n",
       "    <tr>\n",
       "      <th>4</th>\n",
       "      <td>0</td>\n",
       "      <td>0</td>\n",
       "      <td>1</td>\n",
       "    </tr>\n",
       "  </tbody>\n",
       "</table>\n",
       "</div>"
      ],
      "text/plain": [
       "   0  1  2\n",
       "0  0  1  0\n",
       "1  1  0  0\n",
       "2  0  0  1\n",
       "3  0  1  0\n",
       "4  0  0  1"
      ]
     },
     "execution_count": 50,
     "metadata": {},
     "output_type": "execute_result"
    }
   ],
   "source": [
    "pd.get_dummies(df['Area'])"
   ]
  },
  {
   "cell_type": "code",
   "execution_count": 51,
   "id": "0d14dc43",
   "metadata": {},
   "outputs": [],
   "source": [
    "merge=pd.concat([df,dm],axis='columns')"
   ]
  },
  {
   "cell_type": "code",
   "execution_count": 52,
   "id": "7398f0e3",
   "metadata": {},
   "outputs": [
    {
     "data": {
      "text/html": [
       "<div>\n",
       "<style scoped>\n",
       "    .dataframe tbody tr th:only-of-type {\n",
       "        vertical-align: middle;\n",
       "    }\n",
       "\n",
       "    .dataframe tbody tr th {\n",
       "        vertical-align: top;\n",
       "    }\n",
       "\n",
       "    .dataframe thead th {\n",
       "        text-align: right;\n",
       "    }\n",
       "</style>\n",
       "<table border=\"1\" class=\"dataframe\">\n",
       "  <thead>\n",
       "    <tr style=\"text-align: right;\">\n",
       "      <th></th>\n",
       "      <th>Marketing Speed</th>\n",
       "      <th>Administration</th>\n",
       "      <th>Transport</th>\n",
       "      <th>Area</th>\n",
       "      <th>Profit</th>\n",
       "      <th>Ctg</th>\n",
       "      <th>Dhaka</th>\n",
       "      <th>Rangpur</th>\n",
       "    </tr>\n",
       "  </thead>\n",
       "  <tbody>\n",
       "    <tr>\n",
       "      <th>0</th>\n",
       "      <td>464565456.0</td>\n",
       "      <td>56465465.0</td>\n",
       "      <td>1354564.00</td>\n",
       "      <td>1</td>\n",
       "      <td>45445.0</td>\n",
       "      <td>0</td>\n",
       "      <td>1</td>\n",
       "      <td>0</td>\n",
       "    </tr>\n",
       "    <tr>\n",
       "      <th>1</th>\n",
       "      <td>546544455.0</td>\n",
       "      <td>545456456.0</td>\n",
       "      <td>5454.00</td>\n",
       "      <td>0</td>\n",
       "      <td>564654.0</td>\n",
       "      <td>1</td>\n",
       "      <td>0</td>\n",
       "      <td>0</td>\n",
       "    </tr>\n",
       "    <tr>\n",
       "      <th>2</th>\n",
       "      <td>41564545.0</td>\n",
       "      <td>4545.0</td>\n",
       "      <td>4242524.00</td>\n",
       "      <td>2</td>\n",
       "      <td>56456.0</td>\n",
       "      <td>0</td>\n",
       "      <td>0</td>\n",
       "      <td>1</td>\n",
       "    </tr>\n",
       "    <tr>\n",
       "      <th>3</th>\n",
       "      <td>54146565.0</td>\n",
       "      <td>545.0</td>\n",
       "      <td>45245.00</td>\n",
       "      <td>1</td>\n",
       "      <td>5646.0</td>\n",
       "      <td>0</td>\n",
       "      <td>1</td>\n",
       "      <td>0</td>\n",
       "    </tr>\n",
       "    <tr>\n",
       "      <th>4</th>\n",
       "      <td>656465546.0</td>\n",
       "      <td>445.0</td>\n",
       "      <td>1411946.75</td>\n",
       "      <td>2</td>\n",
       "      <td>56465.0</td>\n",
       "      <td>0</td>\n",
       "      <td>0</td>\n",
       "      <td>1</td>\n",
       "    </tr>\n",
       "  </tbody>\n",
       "</table>\n",
       "</div>"
      ],
      "text/plain": [
       "   Marketing Speed   Administration   Transport  Area    Profit  Ctg  Dhaka  \\\n",
       "0       464565456.0      56465465.0  1354564.00     1   45445.0    0      1   \n",
       "1       546544455.0     545456456.0     5454.00     0  564654.0    1      0   \n",
       "2        41564545.0          4545.0  4242524.00     2   56456.0    0      0   \n",
       "3        54146565.0           545.0    45245.00     1    5646.0    0      1   \n",
       "4       656465546.0           445.0  1411946.75     2   56465.0    0      0   \n",
       "\n",
       "   Rangpur  \n",
       "0        0  \n",
       "1        0  \n",
       "2        1  \n",
       "3        0  \n",
       "4        1  "
      ]
     },
     "execution_count": 52,
     "metadata": {},
     "output_type": "execute_result"
    }
   ],
   "source": [
    "merge"
   ]
  },
  {
   "cell_type": "code",
   "execution_count": 53,
   "id": "823d342d",
   "metadata": {},
   "outputs": [],
   "source": [
    "final=merge.drop(['Area'],axis='columns')"
   ]
  },
  {
   "cell_type": "code",
   "execution_count": 54,
   "id": "21c02624",
   "metadata": {},
   "outputs": [
    {
     "data": {
      "text/html": [
       "<div>\n",
       "<style scoped>\n",
       "    .dataframe tbody tr th:only-of-type {\n",
       "        vertical-align: middle;\n",
       "    }\n",
       "\n",
       "    .dataframe tbody tr th {\n",
       "        vertical-align: top;\n",
       "    }\n",
       "\n",
       "    .dataframe thead th {\n",
       "        text-align: right;\n",
       "    }\n",
       "</style>\n",
       "<table border=\"1\" class=\"dataframe\">\n",
       "  <thead>\n",
       "    <tr style=\"text-align: right;\">\n",
       "      <th></th>\n",
       "      <th>Marketing Speed</th>\n",
       "      <th>Administration</th>\n",
       "      <th>Transport</th>\n",
       "      <th>Profit</th>\n",
       "      <th>Ctg</th>\n",
       "      <th>Dhaka</th>\n",
       "      <th>Rangpur</th>\n",
       "    </tr>\n",
       "  </thead>\n",
       "  <tbody>\n",
       "    <tr>\n",
       "      <th>0</th>\n",
       "      <td>464565456.0</td>\n",
       "      <td>56465465.0</td>\n",
       "      <td>1354564.00</td>\n",
       "      <td>45445.0</td>\n",
       "      <td>0</td>\n",
       "      <td>1</td>\n",
       "      <td>0</td>\n",
       "    </tr>\n",
       "    <tr>\n",
       "      <th>1</th>\n",
       "      <td>546544455.0</td>\n",
       "      <td>545456456.0</td>\n",
       "      <td>5454.00</td>\n",
       "      <td>564654.0</td>\n",
       "      <td>1</td>\n",
       "      <td>0</td>\n",
       "      <td>0</td>\n",
       "    </tr>\n",
       "    <tr>\n",
       "      <th>2</th>\n",
       "      <td>41564545.0</td>\n",
       "      <td>4545.0</td>\n",
       "      <td>4242524.00</td>\n",
       "      <td>56456.0</td>\n",
       "      <td>0</td>\n",
       "      <td>0</td>\n",
       "      <td>1</td>\n",
       "    </tr>\n",
       "    <tr>\n",
       "      <th>3</th>\n",
       "      <td>54146565.0</td>\n",
       "      <td>545.0</td>\n",
       "      <td>45245.00</td>\n",
       "      <td>5646.0</td>\n",
       "      <td>0</td>\n",
       "      <td>1</td>\n",
       "      <td>0</td>\n",
       "    </tr>\n",
       "    <tr>\n",
       "      <th>4</th>\n",
       "      <td>656465546.0</td>\n",
       "      <td>445.0</td>\n",
       "      <td>1411946.75</td>\n",
       "      <td>56465.0</td>\n",
       "      <td>0</td>\n",
       "      <td>0</td>\n",
       "      <td>1</td>\n",
       "    </tr>\n",
       "  </tbody>\n",
       "</table>\n",
       "</div>"
      ],
      "text/plain": [
       "   Marketing Speed   Administration   Transport    Profit  Ctg  Dhaka  Rangpur\n",
       "0       464565456.0      56465465.0  1354564.00   45445.0    0      1        0\n",
       "1       546544455.0     545456456.0     5454.00  564654.0    1      0        0\n",
       "2        41564545.0          4545.0  4242524.00   56456.0    0      0        1\n",
       "3        54146565.0           545.0    45245.00    5646.0    0      1        0\n",
       "4       656465546.0           445.0  1411946.75   56465.0    0      0        1"
      ]
     },
     "execution_count": 54,
     "metadata": {},
     "output_type": "execute_result"
    }
   ],
   "source": [
    "final"
   ]
  },
  {
   "cell_type": "markdown",
   "id": "f8235224",
   "metadata": {},
   "source": [
    "# dependant and independant value separate"
   ]
  },
  {
   "cell_type": "code",
   "execution_count": 55,
   "id": "9d128211",
   "metadata": {},
   "outputs": [
    {
     "data": {
      "text/plain": [
       "0     56465465.0\n",
       "1    545456456.0\n",
       "2         4545.0\n",
       "3          545.0\n",
       "4          445.0\n",
       "Name: Administration, dtype: float64"
      ]
     },
     "execution_count": 55,
     "metadata": {},
     "output_type": "execute_result"
    }
   ],
   "source": [
    "y=df['Administration']\n",
    "y"
   ]
  },
  {
   "cell_type": "code",
   "execution_count": 56,
   "id": "ff9cee19",
   "metadata": {},
   "outputs": [
    {
     "data": {
      "text/html": [
       "<div>\n",
       "<style scoped>\n",
       "    .dataframe tbody tr th:only-of-type {\n",
       "        vertical-align: middle;\n",
       "    }\n",
       "\n",
       "    .dataframe tbody tr th {\n",
       "        vertical-align: top;\n",
       "    }\n",
       "\n",
       "    .dataframe thead th {\n",
       "        text-align: right;\n",
       "    }\n",
       "</style>\n",
       "<table border=\"1\" class=\"dataframe\">\n",
       "  <thead>\n",
       "    <tr style=\"text-align: right;\">\n",
       "      <th></th>\n",
       "      <th>Marketing Speed</th>\n",
       "      <th>Transport</th>\n",
       "      <th>Profit</th>\n",
       "      <th>Ctg</th>\n",
       "      <th>Dhaka</th>\n",
       "      <th>Rangpur</th>\n",
       "    </tr>\n",
       "  </thead>\n",
       "  <tbody>\n",
       "    <tr>\n",
       "      <th>0</th>\n",
       "      <td>464565456.0</td>\n",
       "      <td>1354564.00</td>\n",
       "      <td>45445.0</td>\n",
       "      <td>0</td>\n",
       "      <td>1</td>\n",
       "      <td>0</td>\n",
       "    </tr>\n",
       "    <tr>\n",
       "      <th>1</th>\n",
       "      <td>546544455.0</td>\n",
       "      <td>5454.00</td>\n",
       "      <td>564654.0</td>\n",
       "      <td>1</td>\n",
       "      <td>0</td>\n",
       "      <td>0</td>\n",
       "    </tr>\n",
       "    <tr>\n",
       "      <th>2</th>\n",
       "      <td>41564545.0</td>\n",
       "      <td>4242524.00</td>\n",
       "      <td>56456.0</td>\n",
       "      <td>0</td>\n",
       "      <td>0</td>\n",
       "      <td>1</td>\n",
       "    </tr>\n",
       "    <tr>\n",
       "      <th>3</th>\n",
       "      <td>54146565.0</td>\n",
       "      <td>45245.00</td>\n",
       "      <td>5646.0</td>\n",
       "      <td>0</td>\n",
       "      <td>1</td>\n",
       "      <td>0</td>\n",
       "    </tr>\n",
       "    <tr>\n",
       "      <th>4</th>\n",
       "      <td>656465546.0</td>\n",
       "      <td>1411946.75</td>\n",
       "      <td>56465.0</td>\n",
       "      <td>0</td>\n",
       "      <td>0</td>\n",
       "      <td>1</td>\n",
       "    </tr>\n",
       "  </tbody>\n",
       "</table>\n",
       "</div>"
      ],
      "text/plain": [
       "   Marketing Speed    Transport    Profit  Ctg  Dhaka  Rangpur\n",
       "0       464565456.0  1354564.00   45445.0    0      1        0\n",
       "1       546544455.0     5454.00  564654.0    1      0        0\n",
       "2        41564545.0  4242524.00   56456.0    0      0        1\n",
       "3        54146565.0    45245.00    5646.0    0      1        0\n",
       "4       656465546.0  1411946.75   56465.0    0      0        1"
      ]
     },
     "execution_count": 56,
     "metadata": {},
     "output_type": "execute_result"
    }
   ],
   "source": [
    "x=final.drop(['Administration'],axis=1)\n",
    "x"
   ]
  },
  {
   "cell_type": "code",
   "execution_count": 57,
   "id": "4b2c7732",
   "metadata": {},
   "outputs": [],
   "source": [
    "from sklearn.linear_model import LinearRegression"
   ]
  },
  {
   "cell_type": "code",
   "execution_count": 58,
   "id": "a20b8472",
   "metadata": {},
   "outputs": [],
   "source": [
    "model=LinearRegression()"
   ]
  },
  {
   "cell_type": "code",
   "execution_count": 59,
   "id": "baaf41bc",
   "metadata": {},
   "outputs": [
    {
     "data": {
      "text/plain": [
       "LinearRegression()"
      ]
     },
     "execution_count": 59,
     "metadata": {},
     "output_type": "execute_result"
    }
   ],
   "source": [
    "model.fit(x,y)"
   ]
  },
  {
   "cell_type": "code",
   "execution_count": 61,
   "id": "dc9041e3",
   "metadata": {},
   "outputs": [
    {
     "data": {
      "text/plain": [
       "1.0"
      ]
     },
     "execution_count": 61,
     "metadata": {},
     "output_type": "execute_result"
    }
   ],
   "source": [
    "model.score(x,y)"
   ]
  },
  {
   "cell_type": "code",
   "execution_count": 63,
   "id": "6861a290",
   "metadata": {},
   "outputs": [
    {
     "data": {
      "text/plain": [
       "array([20209946.45227318])"
      ]
     },
     "execution_count": 63,
     "metadata": {},
     "output_type": "execute_result"
    }
   ],
   "source": [
    "model.predict([[464565456.0,1354564.00,45445.0,1,0,0]])"
   ]
  },
  {
   "cell_type": "code",
   "execution_count": null,
   "id": "97195765",
   "metadata": {},
   "outputs": [],
   "source": []
  }
 ],
 "metadata": {
  "kernelspec": {
   "display_name": "Python 3",
   "language": "python",
   "name": "python3"
  },
  "language_info": {
   "codemirror_mode": {
    "name": "ipython",
    "version": 3
   },
   "file_extension": ".py",
   "mimetype": "text/x-python",
   "name": "python",
   "nbconvert_exporter": "python",
   "pygments_lexer": "ipython3",
   "version": "3.8.8"
  }
 },
 "nbformat": 4,
 "nbformat_minor": 5
}
