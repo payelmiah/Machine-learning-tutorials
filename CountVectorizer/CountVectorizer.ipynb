{
  "nbformat": 4,
  "nbformat_minor": 0,
  "metadata": {
    "colab": {
      "name": "CountVectorizer.ipynb",
      "provenance": []
    },
    "kernelspec": {
      "name": "python3",
      "display_name": "Python 3"
    },
    "language_info": {
      "name": "python"
    }
  },
  "cells": [
    {
      "cell_type": "code",
      "execution_count": null,
      "metadata": {
        "id": "lOu-EmsGtUAf"
      },
      "outputs": [],
      "source": [
        "dataset = [\"One Geek helps Two Geeks\",\n",
        "            \"Two Geeks help Four Geeks\",\n",
        "            \"Each Geek helps many other Geeks at GeeksforGeeks\"]"
      ]
    },
    {
      "cell_type": "code",
      "source": [
        "from sklearn.feature_extraction.text import CountVectorizer\n",
        "CV = CountVectorizer()"
      ],
      "metadata": {
        "id": "iW7v1ch6t_md"
      },
      "execution_count": null,
      "outputs": []
    },
    {
      "cell_type": "code",
      "source": [
        "X=CV.fit_transform(dataset)"
      ],
      "metadata": {
        "id": "D_IPzlW2uNg_"
      },
      "execution_count": null,
      "outputs": []
    },
    {
      "cell_type": "code",
      "source": [
        "CV.get_feature_names()"
      ],
      "metadata": {
        "colab": {
          "base_uri": "https://localhost:8080/"
        },
        "id": "-bw-fMCjuVLW",
        "outputId": "8b520bf8-04b0-4ac1-a9a0-7ef88c3c0b7a"
      },
      "execution_count": null,
      "outputs": [
        {
          "output_type": "stream",
          "name": "stderr",
          "text": [
            "/usr/local/lib/python3.7/dist-packages/sklearn/utils/deprecation.py:87: FutureWarning: Function get_feature_names is deprecated; get_feature_names is deprecated in 1.0 and will be removed in 1.2. Please use get_feature_names_out instead.\n",
            "  warnings.warn(msg, category=FutureWarning)\n"
          ]
        },
        {
          "output_type": "execute_result",
          "data": {
            "text/plain": [
              "['at',\n",
              " 'each',\n",
              " 'four',\n",
              " 'geek',\n",
              " 'geeks',\n",
              " 'geeksforgeeks',\n",
              " 'help',\n",
              " 'helps',\n",
              " 'many',\n",
              " 'one',\n",
              " 'other',\n",
              " 'two']"
            ]
          },
          "metadata": {},
          "execution_count": 5
        }
      ]
    },
    {
      "cell_type": "code",
      "source": [
        "X.toarray()"
      ],
      "metadata": {
        "colab": {
          "base_uri": "https://localhost:8080/"
        },
        "id": "hYmm3jsiukgF",
        "outputId": "2df08eaa-0cc3-4f0a-b80f-265ea622de01"
      },
      "execution_count": null,
      "outputs": [
        {
          "output_type": "execute_result",
          "data": {
            "text/plain": [
              "array([[0, 0, 0, 1, 1, 0, 0, 1, 0, 1, 0, 1],\n",
              "       [0, 0, 1, 0, 2, 0, 1, 0, 0, 0, 0, 1],\n",
              "       [1, 1, 0, 1, 1, 1, 0, 1, 1, 0, 1, 0]])"
            ]
          },
          "metadata": {},
          "execution_count": 6
        }
      ]
    },
    {
      "cell_type": "code",
      "source": [
        ""
      ],
      "metadata": {
        "id": "kuuKB9wtvO23"
      },
      "execution_count": null,
      "outputs": []
    }
  ]
}